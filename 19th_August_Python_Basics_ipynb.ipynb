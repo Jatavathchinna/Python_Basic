{
  "nbformat": 4,
  "nbformat_minor": 0,
  "metadata": {
    "colab": {
      "provenance": []
    },
    "kernelspec": {
      "name": "python3",
      "display_name": "Python 3"
    },
    "language_info": {
      "name": "python"
    }
  },
  "cells": [
    {
      "cell_type": "markdown",
      "source": [
        "Python Basics Variable"
      ],
      "metadata": {
        "id": "iJ6McLh5Cg_M"
      }
    },
    {
      "cell_type": "markdown",
      "source": [
        "1. Declare two variables, `x` and `y`, and assign them integer values. Swap the values of these variables without using any temporary variable."
      ],
      "metadata": {
        "id": "xGWVbQFPxtJJ"
      }
    },
    {
      "cell_type": "code",
      "source": [
        "x=10\n",
        "y=20"
      ],
      "metadata": {
        "id": "QrMp4UqSuP34"
      },
      "execution_count": 1,
      "outputs": []
    },
    {
      "cell_type": "code",
      "source": [
        "x"
      ],
      "metadata": {
        "colab": {
          "base_uri": "https://localhost:8080/"
        },
        "id": "2IQVrB2Pv-MO",
        "outputId": "1635659d-e6f0-4deb-fc4c-c23e15bab80f"
      },
      "execution_count": 2,
      "outputs": [
        {
          "output_type": "execute_result",
          "data": {
            "text/plain": [
              "10"
            ]
          },
          "metadata": {},
          "execution_count": 2
        }
      ]
    },
    {
      "cell_type": "code",
      "source": [
        "y"
      ],
      "metadata": {
        "colab": {
          "base_uri": "https://localhost:8080/"
        },
        "id": "94Gd20VLwDn3",
        "outputId": "a74d26c1-aae7-4597-f18c-de4ba71f4813"
      },
      "execution_count": 3,
      "outputs": [
        {
          "output_type": "execute_result",
          "data": {
            "text/plain": [
              "20"
            ]
          },
          "metadata": {},
          "execution_count": 3
        }
      ]
    },
    {
      "cell_type": "code",
      "source": [
        "#Now swap this two varibles with out using any temporary variable\n",
        "x,y = y,x\n",
        "\n",
        "#as we know that when we use multiple variable in a single line x and y varible holds the respective position"
      ],
      "metadata": {
        "id": "mG_KljZswE5X"
      },
      "execution_count": 4,
      "outputs": []
    },
    {
      "cell_type": "code",
      "source": [
        "x"
      ],
      "metadata": {
        "colab": {
          "base_uri": "https://localhost:8080/"
        },
        "id": "MuKMO--9xefB",
        "outputId": "82b72d9e-f5a3-4e70-f30d-a8399febf32d"
      },
      "execution_count": 5,
      "outputs": [
        {
          "output_type": "execute_result",
          "data": {
            "text/plain": [
              "20"
            ]
          },
          "metadata": {},
          "execution_count": 5
        }
      ]
    },
    {
      "cell_type": "code",
      "source": [
        "y"
      ],
      "metadata": {
        "colab": {
          "base_uri": "https://localhost:8080/"
        },
        "id": "VoW8cJOpx6Ui",
        "outputId": "0a2c7e31-a2d9-4402-8df5-999fc99e4d45"
      },
      "execution_count": 6,
      "outputs": [
        {
          "output_type": "execute_result",
          "data": {
            "text/plain": [
              "10"
            ]
          },
          "metadata": {},
          "execution_count": 6
        }
      ]
    },
    {
      "cell_type": "markdown",
      "source": [
        "2. Create a program that calculates the area of a rectangle. Take the length and\n",
        "width as inputs from the user and store them in variables. Calculate and\n",
        "display the area."
      ],
      "metadata": {
        "id": "w4FpOIxEyD_I"
      }
    },
    {
      "cell_type": "code",
      "source": [
        "length = int(input(\"give the length of the rectangle: \"))\n",
        "\n",
        "width = int(input(\"give the width of the rectangle: \"))\n",
        "\n",
        "# To calculate the area of the rectangle use length*width operation\n",
        "\n",
        "Area = length*width\n",
        "#here area is a variable that holds the result\n",
        "\n",
        "print(\"the area of the rectangle is : \", Area)"
      ],
      "metadata": {
        "colab": {
          "base_uri": "https://localhost:8080/"
        },
        "id": "XiFKsIslyJrQ",
        "outputId": "eb78c144-d664-436d-b3a0-71e893dccd30"
      },
      "execution_count": 7,
      "outputs": [
        {
          "output_type": "stream",
          "name": "stdout",
          "text": [
            "give the length of the rectangle: 10\n",
            "give the width of the rectangle: 20\n",
            "the area of the rectangle is :  200\n"
          ]
        }
      ]
    },
    {
      "cell_type": "markdown",
      "source": [
        "3. Write a Python program that converts temperatures from Celsius to\n",
        "Fahrenheit. Take the temperature in Celsius as input, store it in a variable,\n",
        "convert it to Fahrenheit, and display the result."
      ],
      "metadata": {
        "id": "0msL5TGC0xQ6"
      }
    },
    {
      "cell_type": "code",
      "source": [
        "'''the concept behind temperature conversion from celsius to fahrenheit is\n",
        "fahrenheit = 9/5*celsius+32'''\n",
        "\n",
        "\n",
        "celsius = int(input(\"enter the temperature in celsius: \"))\n",
        "fahrenheit = (9/5*celsius)+32\n",
        "print(\"the temperature in fahrenheit is: \",fahrenheit)"
      ],
      "metadata": {
        "colab": {
          "base_uri": "https://localhost:8080/"
        },
        "id": "obd0xYwQ0dNA",
        "outputId": "57c4352e-ba15-4692-a9bd-d41955745f79"
      },
      "execution_count": 11,
      "outputs": [
        {
          "output_type": "stream",
          "name": "stdout",
          "text": [
            "enter the temperature in celsius: 10\n",
            "the temperature in fahrenheit is:  50.0\n"
          ]
        }
      ]
    },
    {
      "cell_type": "markdown",
      "source": [
        "String Based Questions"
      ],
      "metadata": {
        "id": "RaRVkJTACwhN"
      }
    },
    {
      "cell_type": "markdown",
      "source": [
        "1. Write a Python program that takes a string as input and prints the length of\n",
        "the string."
      ],
      "metadata": {
        "id": "c028jmHWC0m2"
      }
    },
    {
      "cell_type": "code",
      "source": [
        "#To take input from user\n",
        "s = input(\"enter some combination character: \")\n",
        "print(\"the length of the string: \",len(s))"
      ],
      "metadata": {
        "colab": {
          "base_uri": "https://localhost:8080/"
        },
        "id": "Q6BZsxXK21K_",
        "outputId": "5c985fc1-1f15-4cc6-9176-2582bdd8250a"
      },
      "execution_count": 13,
      "outputs": [
        {
          "output_type": "stream",
          "name": "stdout",
          "text": [
            "enter some combination character: Srinivas\n",
            "the length of the string:  8\n"
          ]
        }
      ]
    },
    {
      "cell_type": "markdown",
      "source": [
        "2. Create a program that takes a sentence from the user and counts the number\n",
        "of vowels (a, e, i, o, u) in the string."
      ],
      "metadata": {
        "id": "Z57qXp7pEbhE"
      }
    },
    {
      "cell_type": "code",
      "source": [
        "\n",
        "s1 = input(\"enter some sentence: \")\n",
        "count=0\n",
        "vowels = ['a','e','i','o','u']\n",
        "for i in s1:\n",
        "  if i in vowels:\n",
        "    count = count + 1\n",
        "\n",
        "else:\n",
        "  print(\"vowels are present in the sentence you gave\",count)\n",
        ""
      ],
      "metadata": {
        "colab": {
          "base_uri": "https://localhost:8080/"
        },
        "id": "cBMsm-EID8eE",
        "outputId": "8d0a2609-5c41-4e37-d099-12e24f3e65b5"
      },
      "execution_count": 41,
      "outputs": [
        {
          "output_type": "stream",
          "name": "stdout",
          "text": [
            "enter some sentence: this is my first python code\n",
            "vowels are present in the sentence you gave 6\n"
          ]
        }
      ]
    },
    {
      "cell_type": "markdown",
      "source": [
        "3. Given a string, reverse the order of characters using string slicing and print\n",
        "the reversed string."
      ],
      "metadata": {
        "id": "QWulR9ONPqz1"
      }
    },
    {
      "cell_type": "code",
      "source": [
        "s =\"jatavathsrinivas\"\n",
        "rev=s[::-1]\n",
        "print(\"Reversed string is :\" ,rev)\n"
      ],
      "metadata": {
        "colab": {
          "base_uri": "https://localhost:8080/"
        },
        "id": "cACl7h7DM4HU",
        "outputId": "6a1a77e4-dc12-49d3-aadb-09209ce0cb8b"
      },
      "execution_count": 42,
      "outputs": [
        {
          "output_type": "stream",
          "name": "stdout",
          "text": [
            "reversed string is : savinirshtavataj\n"
          ]
        }
      ]
    },
    {
      "cell_type": "markdown",
      "source": [
        "4. Write a program that takes a string as input and checks if it is a palindrome\n",
        "(reads the same forwards and backwards)."
      ],
      "metadata": {
        "id": "AAvCuQFKQkjo"
      }
    },
    {
      "cell_type": "code",
      "source": [
        "s = (input(\"enter the string : \"))\n",
        "\n",
        "if s == s[: :-1]:\n",
        "  print(\"the givien string is palindrome\")\n",
        "\n",
        "else:\n",
        "  print(\"the given string is not a palindrome\")"
      ],
      "metadata": {
        "colab": {
          "base_uri": "https://localhost:8080/"
        },
        "id": "g6bCLNCYQauz",
        "outputId": "3fab84a5-a4ba-47db-cd60-1d9c3a048773"
      },
      "execution_count": 50,
      "outputs": [
        {
          "output_type": "stream",
          "name": "stdout",
          "text": [
            "enter the string : eye\n",
            "the givien string is palindrome\n"
          ]
        }
      ]
    },
    {
      "cell_type": "code",
      "source": [
        "s = (input(\"enter the string : \"))\n",
        "\n",
        "if s ==s[: : -1]:\n",
        "  print(\"the givien string is palindrome\")\n",
        "\n",
        "else:\n",
        "  print(\"the given string is not a palindrome\")"
      ],
      "metadata": {
        "colab": {
          "base_uri": "https://localhost:8080/"
        },
        "id": "TKm-eJBgR3p9",
        "outputId": "fc9878ae-f41a-4877-fb0c-4c56de64c380"
      },
      "execution_count": 51,
      "outputs": [
        {
          "output_type": "stream",
          "name": "stdout",
          "text": [
            "enter the string : srinivas\n",
            "the given string is not a palindrome\n"
          ]
        }
      ]
    },
    {
      "cell_type": "markdown",
      "source": [
        "5. Create a program that takes a string as input and removes all the spaces from\n",
        "it. Print the modified string without spaces."
      ],
      "metadata": {
        "id": "-aVc4_FxUZ3v"
      }
    },
    {
      "cell_type": "code",
      "source": [
        "s= input(\"enter the string: \")\n",
        "\n",
        "s1 = \" \"\n",
        "for i in s:\n",
        "  if i !=\" \":\n",
        "    s1=s1+i\n",
        "\n",
        "else:\n",
        "    print(s1)"
      ],
      "metadata": {
        "colab": {
          "base_uri": "https://localhost:8080/"
        },
        "id": "RCrAq91PTOwX",
        "outputId": "2c4f5826-ee57-4243-ca72-2d51a7bce1bb"
      },
      "execution_count": 55,
      "outputs": [
        {
          "output_type": "stream",
          "name": "stdout",
          "text": [
            "enter the string: im very exiting to learn python code\n",
            " imveryexitingtolearnpythoncode\n"
          ]
        }
      ]
    },
    {
      "cell_type": "code",
      "source": [],
      "metadata": {
        "id": "ZCJ6whQrW8Z0"
      },
      "execution_count": null,
      "outputs": []
    }
  ]
}